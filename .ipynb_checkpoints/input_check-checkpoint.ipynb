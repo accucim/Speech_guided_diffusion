{
 "cells": [
  {
   "cell_type": "code",
   "execution_count": 77,
   "id": "eb3b5558-fb72-4460-8966-baf7bacfc6d6",
   "metadata": {},
   "outputs": [],
   "source": [
    "from mpi4py import MPI\n",
    "import glob\n",
    "shard=MPI.COMM_WORLD.Get_rank(),\n",
    "num_shards=MPI.COMM_WORLD.Get_size(),"
   ]
  },
  {
   "cell_type": "code",
   "execution_count": 78,
   "id": "a97c9071-c5a1-4b2a-9482-548c552fe913",
   "metadata": {},
   "outputs": [],
   "source": [
    "audio_paths = sorted(glob.glob(\"/data/yjpak/Dataset/audio_mnist/*/*.wav\"))"
   ]
  },
  {
   "cell_type": "code",
   "execution_count": 79,
   "id": "826b7d93-4fca-4813-baf3-28391aba973d",
   "metadata": {},
   "outputs": [
    {
     "data": {
      "text/plain": [
       "'01_0_01_1.wav'"
      ]
     },
     "execution_count": 79,
     "metadata": {},
     "output_type": "execute_result"
    }
   ],
   "source": [
    "audio_paths[1].split('/')[5]+f\"_{audio_paths[1].split('/')[6]}\""
   ]
  },
  {
   "cell_type": "code",
   "execution_count": 80,
   "id": "5c855af9-5280-47bb-a6a2-b0cf47e323bd",
   "metadata": {},
   "outputs": [
    {
     "data": {
      "text/plain": [
       "'/data/yjpak/Dataset/audio_mnist/01/0_01_0.wav'"
      ]
     },
     "execution_count": 80,
     "metadata": {},
     "output_type": "execute_result"
    }
   ],
   "source": [
    "audio_paths[0]"
   ]
  },
  {
   "cell_type": "code",
   "execution_count": 81,
   "id": "77d1ff90-fbb3-4c15-80e2-d1a58608e507",
   "metadata": {},
   "outputs": [
    {
     "data": {
      "text/plain": [
       "'/mel_data_01_0_01_0.wav'"
      ]
     },
     "execution_count": 81,
     "metadata": {},
     "output_type": "execute_result"
    }
   ],
   "source": [
    "f\"/mel_data_{audio_paths[0].split('/')[5]}\"+f\"_{audio_paths[0].split('/')[6]}\""
   ]
  },
  {
   "cell_type": "code",
   "execution_count": 82,
   "id": "f1d9ca9d-2f99-4040-a494-54ef559ea86e",
   "metadata": {},
   "outputs": [],
   "source": [
    "data_file_paths = sorted(glob.glob(\"/data/yjpak/guided-diffusion(fail)/logs/classifier10/mel_input_check/*.wav.npy\"))\n",
    "label_file_paths = sorted(glob.glob(\"/data/yjpak/guided-diffusion(fail)/logs/classifier10/mel_input_check/*.wav.npy\"))"
   ]
  },
  {
   "cell_type": "code",
   "execution_count": 83,
   "id": "6df070bb-25b7-4974-88cb-f8ca762e7ad3",
   "metadata": {},
   "outputs": [
    {
     "name": "stdout",
     "output_type": "stream",
     "text": [
      "모든 파일 이름이 일치합니다.\n"
     ]
    }
   ],
   "source": [
    "# 파일 경로 리스트의 길이 확인\n",
    "if len(data_file_paths) != len(label_file_paths):\n",
    "    print(\"데이터 파일과 라벨 파일의 개수가 다릅니다.\")\n",
    "else:\n",
    "    all_match = True\n",
    "    for data_path, label_path in zip(data_file_paths, label_file_paths):\n",
    "        data_file_name = os.path.basename(data_path)\n",
    "        label_file_name = os.path.basename(label_path)\n",
    "        if data_file_name != label_file_name:\n",
    "            all_match = False\n",
    "            print(f\"파일 이름이 일치하지 않습니다: {data_file_name} != {label_file_name}\")\n",
    "    \n",
    "    if all_match:\n",
    "        print(\"모든 파일 이름이 일치합니다.\")"
   ]
  },
  {
   "cell_type": "code",
   "execution_count": 84,
   "id": "b2ca0add-5984-408b-bee7-7a8268a1eb4a",
   "metadata": {},
   "outputs": [
    {
     "data": {
      "text/plain": [
       "torch.distributions.distribution.Distribution"
      ]
     },
     "execution_count": 84,
     "metadata": {},
     "output_type": "execute_result"
    }
   ],
   "source": [
    "import torch\n",
    "torch.distributions.distribution.Distribution"
   ]
  },
  {
   "cell_type": "code",
   "execution_count": 85,
   "id": "e0ac8312-8c37-4408-9e9b-9b62d5065d0e",
   "metadata": {},
   "outputs": [
    {
     "data": {
      "text/plain": [
       "'0'"
      ]
     },
     "execution_count": 85,
     "metadata": {},
     "output_type": "execute_result"
    }
   ],
   "source": [
    "path = \"/data/yjpak/Dataset/audio_mnist/22/0_22_4.wav\"\n",
    "path.split('/')[6][0]"
   ]
  },
  {
   "cell_type": "code",
   "execution_count": 86,
   "id": "0b56151f-8840-4471-a076-8265724fc318",
   "metadata": {},
   "outputs": [],
   "source": [
    "path = \"/data/yjpak/Dataset/audio_mnist/22/0_22_4.wav\""
   ]
  },
  {
   "cell_type": "code",
   "execution_count": 87,
   "id": "78d8753a-ea54-4cf6-bd2d-21709d3d0244",
   "metadata": {},
   "outputs": [
    {
     "data": {
      "text/plain": [
       "['/data/yjpak/Dataset/audio', 'mnist/22/0', '22', '4.wav']"
      ]
     },
     "execution_count": 87,
     "metadata": {},
     "output_type": "execute_result"
    }
   ],
   "source": [
    "path.split('_')"
   ]
  },
  {
   "cell_type": "code",
   "execution_count": 88,
   "id": "86795a41-d2c9-42a2-8196-a13e17272c4e",
   "metadata": {},
   "outputs": [],
   "source": [
    "data = '/data/yjpak/Dataset/audio_mnist/60/9_60_7.wav'"
   ]
  },
  {
   "cell_type": "code",
   "execution_count": 89,
   "id": "de3c2777-3a38-4859-97e0-05566e798cb8",
   "metadata": {},
   "outputs": [
    {
     "data": {
      "text/plain": [
       "['', 'data', 'yjpak', 'Dataset', 'audio_mnist', '60', '9_60_7.wav']"
      ]
     },
     "execution_count": 89,
     "metadata": {},
     "output_type": "execute_result"
    }
   ],
   "source": [
    "data.split('/')"
   ]
  },
  {
   "cell_type": "code",
   "execution_count": 90,
   "id": "3f909f4c-0436-4230-9226-b2f6026190b4",
   "metadata": {},
   "outputs": [
    {
     "data": {
      "text/plain": [
       "'9'"
      ]
     },
     "execution_count": 90,
     "metadata": {},
     "output_type": "execute_result"
    }
   ],
   "source": [
    "import blobfile as bf\n",
    "bf.basename(audio_paths[-1]).split(\"_\")[0]"
   ]
  },
  {
   "cell_type": "code",
   "execution_count": 91,
   "id": "0ec49634-c49a-43ef-aeda-fe8a688f88da",
   "metadata": {},
   "outputs": [],
   "source": [
    "import numpy as np\n",
    "import librosa.display as display"
   ]
  },
  {
   "cell_type": "code",
   "execution_count": 31,
   "id": "16ef85da-1338-42f4-8a9c-c1a40240d08f",
   "metadata": {},
   "outputs": [],
   "source": [
    "x = np.load(\"/data/yjpak/guided-diffusion/logs/batch_check/batch_0.npy\")"
   ]
  },
  {
   "cell_type": "code",
   "execution_count": 32,
   "id": "989a2356-26d2-4210-a00d-ddaaa26d78d7",
   "metadata": {},
   "outputs": [
    {
     "data": {
      "text/plain": [
       "(32, 1, 80, 80)"
      ]
     },
     "execution_count": 32,
     "metadata": {},
     "output_type": "execute_result"
    }
   ],
   "source": [
    "x.shape"
   ]
  },
  {
   "cell_type": "code",
   "execution_count": 35,
   "id": "3fe03558-8cb0-4d77-bbd6-d7b5d8ae2c58",
   "metadata": {},
   "outputs": [
    {
     "data": {
      "text/plain": [
       "<matplotlib.collections.QuadMesh at 0x7fd2a562d300>"
      ]
     },
     "execution_count": 35,
     "metadata": {},
     "output_type": "execute_result"
    },
    {
     "data": {
      "image/png": "[encoded data removed]",
      "text/plain": [
       "<Figure size 640x480 with 1 Axes>"
      ]
     },
     "metadata": {},
     "output_type": "display_data"
    }
   ],
   "source": [
    "display.specshow(x[0][0])"
   ]
  },
  {
   "cell_type": "code",
   "execution_count": 36,
   "id": "650f8bc7-7fad-493f-93d5-9b373a4db38e",
   "metadata": {},
   "outputs": [
    {
     "data": {
      "text/plain": [
       "<matplotlib.collections.QuadMesh at 0x7fd2a56570d0>"
      ]
     },
     "execution_count": 36,
     "metadata": {},
     "output_type": "execute_result"
    },
    {
     "data": {
      "image/png": "[encoded data removed]",
      "text/plain": [
       "<Figure size 640x480 with 1 Axes>"
      ]
     },
     "metadata": {},
     "output_type": "display_data"
    }
   ],
   "source": [
    "display.specshow(x[1][0])"
   ]
  },
  {
   "cell_type": "code",
   "execution_count": 153,
   "id": "a804260f-c39f-4645-b6da-386184906b68",
   "metadata": {},
   "outputs": [],
   "source": [
    "label = np.load(\"/data/yjpak/guided-diffusion/logs/batch_check(diffusion)/cond_0.npy\", allow_pickle=True)"
   ]
  },
  {
   "cell_type": "code",
   "execution_count": 154,
   "id": "dc86a2d5-61c0-401f-a735-890e20a40940",
   "metadata": {},
   "outputs": [
    {
     "data": {
      "text/plain": [
       "array({'y': tensor([8, 2, 8, 7, 6, 3, 9, 1, 3, 4, 1, 6, 5, 3, 6, 6, 5, 1, 5, 1, 1, 0, 5, 6,\n",
       "        5, 9, 9, 6, 9, 8, 3, 9, 9, 0, 7, 9, 8, 7, 4, 4, 8, 3, 9, 8, 2, 9, 9, 9,\n",
       "        4, 2, 6, 0, 0, 1, 3, 8, 1, 1, 8, 1, 3, 4, 4, 8])}, dtype=object)"
      ]
     },
     "execution_count": 154,
     "metadata": {},
     "output_type": "execute_result"
    }
   ],
   "source": [
    "label"
   ]
  },
  {
   "cell_type": "code",
   "execution_count": 125,
   "id": "a3200d5a-3e44-4831-9ac4-da7cf53b19dd",
   "metadata": {},
   "outputs": [
    {
     "name": "stdout",
     "output_type": "stream",
     "text": [
      "[[0.7551625  0.759218   0.7173235  ... 0.2        0.2        0.2       ]\n",
      " [0.6191491  0.6330567  0.6141194  ... 0.2        0.2        0.2       ]\n",
      " [0.55910337 0.5983845  0.6196404  ... 0.2        0.2        0.2       ]\n",
      " ...\n",
      " [0.34496948 0.33594298 0.3350187  ... 0.2        0.2        0.2       ]\n",
      " [0.34941223 0.33524948 0.35274985 ... 0.2        0.2        0.2       ]\n",
      " [0.33867973 0.34860718 0.35123277 ... 0.2        0.2        0.2       ]]\n",
      "[[0.7551625  0.759218   0.7173235  ... 0.2        0.2        0.2       ]\n",
      " [0.6191491  0.6330567  0.6141194  ... 0.2        0.2        0.2       ]\n",
      " [0.55910337 0.5983845  0.6196404  ... 0.2        0.2        0.2       ]\n",
      " ...\n",
      " [0.34496948 0.33594298 0.3350187  ... 0.2        0.2        0.2       ]\n",
      " [0.34941223 0.33524948 0.35274985 ... 0.2        0.2        0.2       ]\n",
      " [0.33867973 0.34860718 0.35123277 ... 0.2        0.2        0.2       ]]\n"
     ]
    }
   ],
   "source": [
    "print(x[0][0])\n",
    "print(x[1][0])"
   ]
  },
  {
   "cell_type": "code",
   "execution_count": null,
   "id": "febe254e-fe82-4db3-be8f-cd20fc03aa08",
   "metadata": {},
   "outputs": [],
   "source": [
    "x = np.load(\"/data/yjpak/guided_diffusion_all/guided-diffusion/logs/batch_check/batch_0.npy\")"
   ]
  }
 ],
 "metadata": {
  "kernelspec": {
   "display_name": "Python 3 (ipykernel)",
   "language": "python",
   "name": "python3"
  },
  "language_info": {
   "codemirror_mode": {
    "name": "ipython",
    "version": 3
   },
   "file_extension": ".py",
   "mimetype": "text/x-python",
   "name": "python",
   "nbconvert_exporter": "python",
   "pygments_lexer": "ipython3",
   "version": "3.10.14"
  }
 },
 "nbformat": 4,
 "nbformat_minor": 5
}
