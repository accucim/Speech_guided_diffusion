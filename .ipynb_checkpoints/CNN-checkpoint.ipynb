{
 "cells": [
  {
   "cell_type": "code",
   "execution_count": 5,
   "id": "1fa6bf54-3ee5-49e2-acf3-726b6d1ca97f",
   "metadata": {},
   "outputs": [
    {
     "name": "stdout",
     "output_type": "stream",
     "text": [
      "cuda\n"
     ]
    }
   ],
   "source": [
    "import glob\n",
    "import numpy as np\n",
    "import pandas as pd\n",
    "import matplotlib.pyplot as plt\n",
    "\n",
    "import torch\n",
    "from torch import nn\n",
    "import torch.nn.functional as F\n",
    "from torch.utils.data import Dataset, DataLoader\n",
    "from torchvision import datasets, transforms\n",
    "import torchvision\n",
    "import torchvision.transforms as T\n",
    "\n",
    "import librosa\n",
    "import librosa.display as display\n",
    "import IPython.display as ipd\n",
    "from IPython.display import Audio\n",
    "\n",
    "import torchaudio\n",
    "import torchaudio.transforms as AT\n",
    "import torchaudio.functional as AF\n",
    "\n",
    "import random\n",
    "from torchsummary import summary\n",
    "\n",
    "from tqdm import tqdm\n",
    "\n",
    "device = torch.device('cuda' if torch.cuda.is_available() else 'cpu')\n",
    "print(device)\n",
    "#최종 형태 나오고 -> 정규화"
   ]
  },
  {
   "cell_type": "code",
   "execution_count": 2,
   "id": "2aa1fb28-c75b-4e3c-b432-614297501935",
   "metadata": {},
   "outputs": [
    {
     "name": "stdout",
     "output_type": "stream",
     "text": [
      "setup_dist start\n",
      "os.environ[CUDA_VISIBLE_DEVICES]: 0\n",
      "setup_dist\n"
     ]
    }
   ],
   "source": [
    "dist_util.setup_dist()"
   ]
  },
  {
   "cell_type": "code",
   "execution_count": 3,
   "id": "bab35bd0-a24c-4c23-b428-34d71020230c",
   "metadata": {},
   "outputs": [],
   "source": [
    "audio_mnist_path = sorted(glob.glob(\"/data/yjpak/Dataset/audio_mnist/*/*.wav\"))\n",
    "audio_mnist_label = [] \n",
    "for i in range(len(audio_mnist_path)):\n",
    "    audio_mnist_label.append(int(audio_mnist_path[i].split('/')[6].split('_')[0]))\n",
    "    # print(int(audio_mnist_path[i].split('/')[6].split('_')[0]))\n",
    "train_path = audio_mnist_path\n",
    "train_label = audio_mnist_label"
   ]
  },
  {
   "cell_type": "code",
   "execution_count": 4,
   "id": "d4405769-fe34-4898-a7fb-657f749d489d",
   "metadata": {
    "scrolled": true
   },
   "outputs": [
    {
     "data": {
      "text/plain": [
       "(array([0, 1, 2, 3, 4, 5, 6, 7, 8, 9]),\n",
       " array([3000, 3000, 3000, 3000, 3000, 3000, 3000, 3000, 3000, 3000]))"
      ]
     },
     "execution_count": 4,
     "metadata": {},
     "output_type": "execute_result"
    }
   ],
   "source": [
    "np.unique(audio_mnist_label, return_counts=True)"
   ]
  },
  {
   "cell_type": "code",
   "execution_count": null,
   "id": "784eeb6e-88b0-4196-95f8-dedebdf82615",
   "metadata": {},
   "outputs": [],
   "source": []
  },
  {
   "cell_type": "code",
   "execution_count": 17,
   "id": "10889a2e-8aa6-4791-ba20-920640250559",
   "metadata": {},
   "outputs": [],
   "source": [
    "class CNN_2D(nn.Module):\n",
    "    def __init__(self):\n",
    "        super().__init__()\n",
    "        self.features = nn.Sequential(\n",
    "            nn.Conv2d(1, 32, kernel_size=3, stride=1, padding=1),\n",
    "            nn.BatchNorm2d(32),\n",
    "            nn.ReLU(),\n",
    "            nn.Conv2d(32, 32, kernel_size=3, stride=1, padding=1),\n",
    "            nn.BatchNorm2d(32),\n",
    "            nn.ReLU(),\n",
    "            \n",
    "            nn.Conv2d(32, 64, kernel_size=3, stride=1, padding=1),\n",
    "            nn.BatchNorm2d(64),\n",
    "            nn.ReLU(),\n",
    "            nn.MaxPool2d(kernel_size=2, stride=2),\n",
    "            nn.Conv2d(64, 64, kernel_size=3, stride=1, padding=1), \n",
    "            nn.BatchNorm2d(64),\n",
    "            nn.ReLU(),\n",
    "            \n",
    "            nn.Conv2d(64, 128, kernel_size=3, stride=1, padding=1),\n",
    "            nn.BatchNorm2d(128),\n",
    "            nn.ReLU(),\n",
    "            nn.Conv2d(128, 128, kernel_size=3, stride=1, padding=1),\n",
    "            nn.BatchNorm2d(128),\n",
    "            nn.ReLU(),\n",
    "            \n",
    "            nn.Conv2d(128, 256, kernel_size=3, stride=1, padding=1),\n",
    "            nn.BatchNorm2d(256),\n",
    "            nn.ReLU(),   \n",
    "            nn.MaxPool2d(kernel_size=2, stride=2),\n",
    "            nn.Conv2d(256, 256, kernel_size=3, stride=1, padding=1),\n",
    "            nn.BatchNorm2d(256),\n",
    "            nn.ReLU(),   \n",
    "            \n",
    "        )\n",
    "        \n",
    "        self.avg_pool = nn.AdaptiveAvgPool2d((1,1))\n",
    "        self.fc1 = nn.Linear(256,10)\n",
    "        \n",
    "    def forward(self, x):\n",
    "        x = self.features(x)\n",
    "        x = self.avg_pool(x)\n",
    "        x = x.view(x.size(0),-1)\n",
    "        x = self.fc1(x)\n",
    "\n",
    "        return x\n",
    "    \n",
    "model_2D = CNN_2D().to(device)"
   ]
  },
  {
   "cell_type": "code",
   "execution_count": 18,
   "id": "ff1fa10a-f0c2-4592-88d3-6ffe7dbc4ed8",
   "metadata": {},
   "outputs": [],
   "source": [
    "from torch.optim import Adam\n",
    "criterion = nn.CrossEntropyLoss().to(device)\n",
    "opti_2D = Adam(model_2D.parameters(), lr=1e-4)"
   ]
  },
  {
   "cell_type": "code",
   "execution_count": 19,
   "id": "c3229f5b-16c3-4901-8e59-54a66fc9dbbd",
   "metadata": {},
   "outputs": [],
   "source": [
    "def train(model, dataloader, criterion, data_len, opti):\n",
    "    correct = 0\n",
    "    total_loss = 0\n",
    "    model.train()\n",
    "    \n",
    "    for data, target in dataloader:\n",
    "        data = data.to(device)\n",
    "        target = target.to(device)\n",
    "        \n",
    "        output = model(data)\n",
    "\n",
    "        opti.zero_grad()\n",
    "        loss = criterion(output, target)\n",
    "        loss.backward()\n",
    "        opti.step()\n",
    "\n",
    "        total_loss += loss.item()\n",
    "        pred = output.max(1, keepdim=True)[1]\n",
    "        correct += pred.eq(target.view_as(pred)).sum().item()\n",
    "\n",
    "    acc = correct / data_len\n",
    "    total_loss = total_loss / data_len\n",
    "    \n",
    "#     scheduler.step()\n",
    "    \n",
    "    return total_loss, acc"
   ]
  },
  {
   "cell_type": "code",
   "execution_count": null,
   "id": "8ddcc110-fd38-432e-b76d-de1ade5d6659",
   "metadata": {},
   "outputs": [],
   "source": [
    "random_seed = 42\n",
    "torch.cuda.manual_seed(random_seed)\n",
    "max_acc = 0\n",
    "\n",
    "from tqdm.auto import tqdm\n",
    "epoch = 5\n",
    "\n",
    "mel_train_loss_list = []\n",
    "mel_test_loss_list = []\n",
    "mel_train_acc_list = []\n",
    "mel_test_acc_list = []\n",
    "\n",
    "\n",
    "for i in tqdm(range(epoch)):\n",
    "    '''\n",
    "    MelSpectrogram\n",
    "    '''\n",
    "    \n",
    "    mel_train_loss, mel_train_acc = train(model_2D, mel_train_dataloader, criterion, len(mel_train_dataloader.dataset), opti_2D)\n",
    "    mel_test_loss, mel_test_acc = evaluate(model_2D, mel_test_dataloader, criterion, len(mel_test_dataloader.dataset))\n",
    "    \n",
    "    mel_train_loss_list.append(mel_train_loss)\n",
    "    mel_test_loss_list.append(mel_test_loss)\n",
    "    mel_train_acc_list.append(mel_train_acc)\n",
    "    mel_test_acc_list.append(mel_test_acc)\n",
    "    \n",
    "    print(f\"Case: Mel\\nepoch = {i+1} \\ntrain_loss = {mel_train_loss:.4f}, train_acc = {mel_train_acc:.4f}, \\ntest_loss = {mel_test_loss:.4f}, test_acc = {mel_test_acc:.4f}\")\n",
    "    "
   ]
  }
 ],
 "metadata": {
  "kernelspec": {
   "display_name": "Python 3 (ipykernel)",
   "language": "python",
   "name": "python3"
  },
  "language_info": {
   "codemirror_mode": {
    "name": "ipython",
    "version": 3
   },
   "file_extension": ".py",
   "mimetype": "text/x-python",
   "name": "python",
   "nbconvert_exporter": "python",
   "pygments_lexer": "ipython3",
   "version": "3.10.14"
  }
 },
 "nbformat": 4,
 "nbformat_minor": 5
}
